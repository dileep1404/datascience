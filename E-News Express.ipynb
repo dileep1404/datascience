{
 "cells": [
  {
   "cell_type": "code",
   "execution_count": 1,
   "id": "88509c6c",
   "metadata": {},
   "outputs": [],
   "source": [
    "#importing the modules - required\n",
    "import numpy as np\n",
    "import pandas as pd\n",
    "import matplotlib.pyplot as plt\n",
    "import seaborn as sb"
   ]
  },
  {
   "cell_type": "code",
   "execution_count": 2,
   "id": "042c9571",
   "metadata": {},
   "outputs": [],
   "source": [
    "#reading the data frame\n",
    "ln = 'F:\\\\Data Sets\\\\abtest_open.csv'\n",
    "df = pd.read_csv(ln)"
   ]
  },
  {
   "cell_type": "code",
   "execution_count": 3,
   "id": "6f5dd140",
   "metadata": {},
   "outputs": [
    {
     "data": {
      "text/html": [
       "<div>\n",
       "<style scoped>\n",
       "    .dataframe tbody tr th:only-of-type {\n",
       "        vertical-align: middle;\n",
       "    }\n",
       "\n",
       "    .dataframe tbody tr th {\n",
       "        vertical-align: top;\n",
       "    }\n",
       "\n",
       "    .dataframe thead th {\n",
       "        text-align: right;\n",
       "    }\n",
       "</style>\n",
       "<table border=\"1\" class=\"dataframe\">\n",
       "  <thead>\n",
       "    <tr style=\"text-align: right;\">\n",
       "      <th></th>\n",
       "      <th>user_id</th>\n",
       "      <th>group</th>\n",
       "      <th>landing_page</th>\n",
       "      <th>time_spent_on_the_page</th>\n",
       "      <th>converted</th>\n",
       "      <th>language_preferred</th>\n",
       "    </tr>\n",
       "  </thead>\n",
       "  <tbody>\n",
       "    <tr>\n",
       "      <th>0</th>\n",
       "      <td>546592</td>\n",
       "      <td>control</td>\n",
       "      <td>old</td>\n",
       "      <td>3.48</td>\n",
       "      <td>no</td>\n",
       "      <td>Spanish</td>\n",
       "    </tr>\n",
       "    <tr>\n",
       "      <th>1</th>\n",
       "      <td>546468</td>\n",
       "      <td>treatment</td>\n",
       "      <td>new</td>\n",
       "      <td>7.13</td>\n",
       "      <td>yes</td>\n",
       "      <td>English</td>\n",
       "    </tr>\n",
       "    <tr>\n",
       "      <th>2</th>\n",
       "      <td>546462</td>\n",
       "      <td>treatment</td>\n",
       "      <td>new</td>\n",
       "      <td>4.40</td>\n",
       "      <td>no</td>\n",
       "      <td>Spanish</td>\n",
       "    </tr>\n",
       "    <tr>\n",
       "      <th>3</th>\n",
       "      <td>546567</td>\n",
       "      <td>control</td>\n",
       "      <td>old</td>\n",
       "      <td>3.02</td>\n",
       "      <td>no</td>\n",
       "      <td>French</td>\n",
       "    </tr>\n",
       "    <tr>\n",
       "      <th>4</th>\n",
       "      <td>546459</td>\n",
       "      <td>treatment</td>\n",
       "      <td>new</td>\n",
       "      <td>4.75</td>\n",
       "      <td>yes</td>\n",
       "      <td>Spanish</td>\n",
       "    </tr>\n",
       "  </tbody>\n",
       "</table>\n",
       "</div>"
      ],
      "text/plain": [
       "   user_id      group landing_page  time_spent_on_the_page converted  \\\n",
       "0   546592    control          old                    3.48        no   \n",
       "1   546468  treatment          new                    7.13       yes   \n",
       "2   546462  treatment          new                    4.40        no   \n",
       "3   546567    control          old                    3.02        no   \n",
       "4   546459  treatment          new                    4.75       yes   \n",
       "\n",
       "  language_preferred  \n",
       "0            Spanish  \n",
       "1            English  \n",
       "2            Spanish  \n",
       "3             French  \n",
       "4            Spanish  "
      ]
     },
     "execution_count": 3,
     "metadata": {},
     "output_type": "execute_result"
    }
   ],
   "source": [
    "df.head() #print's top 5 records"
   ]
  },
  {
   "cell_type": "code",
   "execution_count": 4,
   "id": "8facc7e0",
   "metadata": {},
   "outputs": [
    {
     "data": {
      "text/html": [
       "<div>\n",
       "<style scoped>\n",
       "    .dataframe tbody tr th:only-of-type {\n",
       "        vertical-align: middle;\n",
       "    }\n",
       "\n",
       "    .dataframe tbody tr th {\n",
       "        vertical-align: top;\n",
       "    }\n",
       "\n",
       "    .dataframe thead th {\n",
       "        text-align: right;\n",
       "    }\n",
       "</style>\n",
       "<table border=\"1\" class=\"dataframe\">\n",
       "  <thead>\n",
       "    <tr style=\"text-align: right;\">\n",
       "      <th></th>\n",
       "      <th>user_id</th>\n",
       "      <th>group</th>\n",
       "      <th>landing_page</th>\n",
       "      <th>time_spent_on_the_page</th>\n",
       "      <th>converted</th>\n",
       "      <th>language_preferred</th>\n",
       "    </tr>\n",
       "  </thead>\n",
       "  <tbody>\n",
       "    <tr>\n",
       "      <th>0</th>\n",
       "      <td>546592</td>\n",
       "      <td>control</td>\n",
       "      <td>old</td>\n",
       "      <td>3.48</td>\n",
       "      <td>no</td>\n",
       "      <td>Spanish</td>\n",
       "    </tr>\n",
       "    <tr>\n",
       "      <th>1</th>\n",
       "      <td>546468</td>\n",
       "      <td>treatment</td>\n",
       "      <td>new</td>\n",
       "      <td>7.13</td>\n",
       "      <td>yes</td>\n",
       "      <td>English</td>\n",
       "    </tr>\n",
       "    <tr>\n",
       "      <th>2</th>\n",
       "      <td>546462</td>\n",
       "      <td>treatment</td>\n",
       "      <td>new</td>\n",
       "      <td>4.40</td>\n",
       "      <td>no</td>\n",
       "      <td>Spanish</td>\n",
       "    </tr>\n",
       "    <tr>\n",
       "      <th>3</th>\n",
       "      <td>546567</td>\n",
       "      <td>control</td>\n",
       "      <td>old</td>\n",
       "      <td>3.02</td>\n",
       "      <td>no</td>\n",
       "      <td>French</td>\n",
       "    </tr>\n",
       "    <tr>\n",
       "      <th>4</th>\n",
       "      <td>546459</td>\n",
       "      <td>treatment</td>\n",
       "      <td>new</td>\n",
       "      <td>4.75</td>\n",
       "      <td>yes</td>\n",
       "      <td>Spanish</td>\n",
       "    </tr>\n",
       "    <tr>\n",
       "      <th>5</th>\n",
       "      <td>546558</td>\n",
       "      <td>control</td>\n",
       "      <td>old</td>\n",
       "      <td>5.28</td>\n",
       "      <td>yes</td>\n",
       "      <td>English</td>\n",
       "    </tr>\n",
       "    <tr>\n",
       "      <th>6</th>\n",
       "      <td>546448</td>\n",
       "      <td>treatment</td>\n",
       "      <td>new</td>\n",
       "      <td>5.25</td>\n",
       "      <td>yes</td>\n",
       "      <td>French</td>\n",
       "    </tr>\n",
       "    <tr>\n",
       "      <th>7</th>\n",
       "      <td>546581</td>\n",
       "      <td>control</td>\n",
       "      <td>old</td>\n",
       "      <td>6.53</td>\n",
       "      <td>yes</td>\n",
       "      <td>Spanish</td>\n",
       "    </tr>\n",
       "    <tr>\n",
       "      <th>8</th>\n",
       "      <td>546461</td>\n",
       "      <td>treatment</td>\n",
       "      <td>new</td>\n",
       "      <td>10.71</td>\n",
       "      <td>yes</td>\n",
       "      <td>French</td>\n",
       "    </tr>\n",
       "    <tr>\n",
       "      <th>9</th>\n",
       "      <td>546548</td>\n",
       "      <td>control</td>\n",
       "      <td>old</td>\n",
       "      <td>2.08</td>\n",
       "      <td>no</td>\n",
       "      <td>English</td>\n",
       "    </tr>\n",
       "    <tr>\n",
       "      <th>10</th>\n",
       "      <td>546588</td>\n",
       "      <td>control</td>\n",
       "      <td>old</td>\n",
       "      <td>6.21</td>\n",
       "      <td>yes</td>\n",
       "      <td>Spanish</td>\n",
       "    </tr>\n",
       "    <tr>\n",
       "      <th>11</th>\n",
       "      <td>546546</td>\n",
       "      <td>control</td>\n",
       "      <td>old</td>\n",
       "      <td>2.58</td>\n",
       "      <td>yes</td>\n",
       "      <td>English</td>\n",
       "    </tr>\n",
       "    <tr>\n",
       "      <th>12</th>\n",
       "      <td>546491</td>\n",
       "      <td>treatment</td>\n",
       "      <td>new</td>\n",
       "      <td>5.86</td>\n",
       "      <td>yes</td>\n",
       "      <td>Spanish</td>\n",
       "    </tr>\n",
       "    <tr>\n",
       "      <th>13</th>\n",
       "      <td>546478</td>\n",
       "      <td>treatment</td>\n",
       "      <td>new</td>\n",
       "      <td>6.03</td>\n",
       "      <td>yes</td>\n",
       "      <td>French</td>\n",
       "    </tr>\n",
       "    <tr>\n",
       "      <th>14</th>\n",
       "      <td>546578</td>\n",
       "      <td>control</td>\n",
       "      <td>old</td>\n",
       "      <td>8.72</td>\n",
       "      <td>yes</td>\n",
       "      <td>Spanish</td>\n",
       "    </tr>\n",
       "    <tr>\n",
       "      <th>15</th>\n",
       "      <td>546466</td>\n",
       "      <td>treatment</td>\n",
       "      <td>new</td>\n",
       "      <td>6.27</td>\n",
       "      <td>yes</td>\n",
       "      <td>Spanish</td>\n",
       "    </tr>\n",
       "    <tr>\n",
       "      <th>16</th>\n",
       "      <td>546443</td>\n",
       "      <td>treatment</td>\n",
       "      <td>new</td>\n",
       "      <td>8.73</td>\n",
       "      <td>no</td>\n",
       "      <td>English</td>\n",
       "    </tr>\n",
       "    <tr>\n",
       "      <th>17</th>\n",
       "      <td>546555</td>\n",
       "      <td>control</td>\n",
       "      <td>old</td>\n",
       "      <td>0.40</td>\n",
       "      <td>no</td>\n",
       "      <td>English</td>\n",
       "    </tr>\n",
       "    <tr>\n",
       "      <th>18</th>\n",
       "      <td>546493</td>\n",
       "      <td>control</td>\n",
       "      <td>old</td>\n",
       "      <td>10.30</td>\n",
       "      <td>yes</td>\n",
       "      <td>English</td>\n",
       "    </tr>\n",
       "    <tr>\n",
       "      <th>19</th>\n",
       "      <td>546549</td>\n",
       "      <td>control</td>\n",
       "      <td>old</td>\n",
       "      <td>3.88</td>\n",
       "      <td>yes</td>\n",
       "      <td>English</td>\n",
       "    </tr>\n",
       "  </tbody>\n",
       "</table>\n",
       "</div>"
      ],
      "text/plain": [
       "    user_id      group landing_page  time_spent_on_the_page converted  \\\n",
       "0    546592    control          old                    3.48        no   \n",
       "1    546468  treatment          new                    7.13       yes   \n",
       "2    546462  treatment          new                    4.40        no   \n",
       "3    546567    control          old                    3.02        no   \n",
       "4    546459  treatment          new                    4.75       yes   \n",
       "5    546558    control          old                    5.28       yes   \n",
       "6    546448  treatment          new                    5.25       yes   \n",
       "7    546581    control          old                    6.53       yes   \n",
       "8    546461  treatment          new                   10.71       yes   \n",
       "9    546548    control          old                    2.08        no   \n",
       "10   546588    control          old                    6.21       yes   \n",
       "11   546546    control          old                    2.58       yes   \n",
       "12   546491  treatment          new                    5.86       yes   \n",
       "13   546478  treatment          new                    6.03       yes   \n",
       "14   546578    control          old                    8.72       yes   \n",
       "15   546466  treatment          new                    6.27       yes   \n",
       "16   546443  treatment          new                    8.73        no   \n",
       "17   546555    control          old                    0.40        no   \n",
       "18   546493    control          old                   10.30       yes   \n",
       "19   546549    control          old                    3.88       yes   \n",
       "\n",
       "   language_preferred  \n",
       "0             Spanish  \n",
       "1             English  \n",
       "2             Spanish  \n",
       "3              French  \n",
       "4             Spanish  \n",
       "5             English  \n",
       "6              French  \n",
       "7             Spanish  \n",
       "8              French  \n",
       "9             English  \n",
       "10            Spanish  \n",
       "11            English  \n",
       "12            Spanish  \n",
       "13             French  \n",
       "14            Spanish  \n",
       "15            Spanish  \n",
       "16            English  \n",
       "17            English  \n",
       "18            English  \n",
       "19            English  "
      ]
     },
     "execution_count": 4,
     "metadata": {},
     "output_type": "execute_result"
    }
   ],
   "source": [
    "df.head(20) #can set the limit of rows"
   ]
  },
  {
   "cell_type": "code",
   "execution_count": 5,
   "id": "30d7b11c",
   "metadata": {},
   "outputs": [
    {
     "data": {
      "text/html": [
       "<div>\n",
       "<style scoped>\n",
       "    .dataframe tbody tr th:only-of-type {\n",
       "        vertical-align: middle;\n",
       "    }\n",
       "\n",
       "    .dataframe tbody tr th {\n",
       "        vertical-align: top;\n",
       "    }\n",
       "\n",
       "    .dataframe thead th {\n",
       "        text-align: right;\n",
       "    }\n",
       "</style>\n",
       "<table border=\"1\" class=\"dataframe\">\n",
       "  <thead>\n",
       "    <tr style=\"text-align: right;\">\n",
       "      <th></th>\n",
       "      <th>user_id</th>\n",
       "      <th>group</th>\n",
       "      <th>landing_page</th>\n",
       "      <th>time_spent_on_the_page</th>\n",
       "      <th>converted</th>\n",
       "      <th>language_preferred</th>\n",
       "    </tr>\n",
       "  </thead>\n",
       "  <tbody>\n",
       "    <tr>\n",
       "      <th>95</th>\n",
       "      <td>546446</td>\n",
       "      <td>treatment</td>\n",
       "      <td>new</td>\n",
       "      <td>5.15</td>\n",
       "      <td>no</td>\n",
       "      <td>Spanish</td>\n",
       "    </tr>\n",
       "    <tr>\n",
       "      <th>96</th>\n",
       "      <td>546544</td>\n",
       "      <td>control</td>\n",
       "      <td>old</td>\n",
       "      <td>6.52</td>\n",
       "      <td>yes</td>\n",
       "      <td>English</td>\n",
       "    </tr>\n",
       "    <tr>\n",
       "      <th>97</th>\n",
       "      <td>546472</td>\n",
       "      <td>treatment</td>\n",
       "      <td>new</td>\n",
       "      <td>7.07</td>\n",
       "      <td>yes</td>\n",
       "      <td>Spanish</td>\n",
       "    </tr>\n",
       "    <tr>\n",
       "      <th>98</th>\n",
       "      <td>546481</td>\n",
       "      <td>treatment</td>\n",
       "      <td>new</td>\n",
       "      <td>6.20</td>\n",
       "      <td>yes</td>\n",
       "      <td>Spanish</td>\n",
       "    </tr>\n",
       "    <tr>\n",
       "      <th>99</th>\n",
       "      <td>546483</td>\n",
       "      <td>treatment</td>\n",
       "      <td>new</td>\n",
       "      <td>5.86</td>\n",
       "      <td>yes</td>\n",
       "      <td>English</td>\n",
       "    </tr>\n",
       "  </tbody>\n",
       "</table>\n",
       "</div>"
      ],
      "text/plain": [
       "    user_id      group landing_page  time_spent_on_the_page converted  \\\n",
       "95   546446  treatment          new                    5.15        no   \n",
       "96   546544    control          old                    6.52       yes   \n",
       "97   546472  treatment          new                    7.07       yes   \n",
       "98   546481  treatment          new                    6.20       yes   \n",
       "99   546483  treatment          new                    5.86       yes   \n",
       "\n",
       "   language_preferred  \n",
       "95            Spanish  \n",
       "96            English  \n",
       "97            Spanish  \n",
       "98            Spanish  \n",
       "99            English  "
      ]
     },
     "execution_count": 5,
     "metadata": {},
     "output_type": "execute_result"
    }
   ],
   "source": [
    "df.tail() #print's last 5 records "
   ]
  },
  {
   "cell_type": "code",
   "execution_count": 6,
   "id": "b889cd0b",
   "metadata": {},
   "outputs": [
    {
     "data": {
      "text/html": [
       "<div>\n",
       "<style scoped>\n",
       "    .dataframe tbody tr th:only-of-type {\n",
       "        vertical-align: middle;\n",
       "    }\n",
       "\n",
       "    .dataframe tbody tr th {\n",
       "        vertical-align: top;\n",
       "    }\n",
       "\n",
       "    .dataframe thead th {\n",
       "        text-align: right;\n",
       "    }\n",
       "</style>\n",
       "<table border=\"1\" class=\"dataframe\">\n",
       "  <thead>\n",
       "    <tr style=\"text-align: right;\">\n",
       "      <th></th>\n",
       "      <th>user_id</th>\n",
       "      <th>time_spent_on_the_page</th>\n",
       "    </tr>\n",
       "  </thead>\n",
       "  <tbody>\n",
       "    <tr>\n",
       "      <th>count</th>\n",
       "      <td>100.000000</td>\n",
       "      <td>100.000000</td>\n",
       "    </tr>\n",
       "    <tr>\n",
       "      <th>mean</th>\n",
       "      <td>546517.000000</td>\n",
       "      <td>5.377800</td>\n",
       "    </tr>\n",
       "    <tr>\n",
       "      <th>std</th>\n",
       "      <td>52.295779</td>\n",
       "      <td>2.378166</td>\n",
       "    </tr>\n",
       "    <tr>\n",
       "      <th>min</th>\n",
       "      <td>546443.000000</td>\n",
       "      <td>0.190000</td>\n",
       "    </tr>\n",
       "    <tr>\n",
       "      <th>25%</th>\n",
       "      <td>546467.750000</td>\n",
       "      <td>3.880000</td>\n",
       "    </tr>\n",
       "    <tr>\n",
       "      <th>50%</th>\n",
       "      <td>546492.500000</td>\n",
       "      <td>5.415000</td>\n",
       "    </tr>\n",
       "    <tr>\n",
       "      <th>75%</th>\n",
       "      <td>546567.250000</td>\n",
       "      <td>7.022500</td>\n",
       "    </tr>\n",
       "    <tr>\n",
       "      <th>max</th>\n",
       "      <td>546592.000000</td>\n",
       "      <td>10.710000</td>\n",
       "    </tr>\n",
       "  </tbody>\n",
       "</table>\n",
       "</div>"
      ],
      "text/plain": [
       "             user_id  time_spent_on_the_page\n",
       "count     100.000000              100.000000\n",
       "mean   546517.000000                5.377800\n",
       "std        52.295779                2.378166\n",
       "min    546443.000000                0.190000\n",
       "25%    546467.750000                3.880000\n",
       "50%    546492.500000                5.415000\n",
       "75%    546567.250000                7.022500\n",
       "max    546592.000000               10.710000"
      ]
     },
     "execution_count": 6,
     "metadata": {},
     "output_type": "execute_result"
    }
   ],
   "source": [
    "df.describe() #Returns statistical data"
   ]
  },
  {
   "cell_type": "code",
   "execution_count": 7,
   "id": "9ab1d870",
   "metadata": {},
   "outputs": [
    {
     "name": "stdout",
     "output_type": "stream",
     "text": [
      "<class 'pandas.core.frame.DataFrame'>\n",
      "RangeIndex: 100 entries, 0 to 99\n",
      "Data columns (total 6 columns):\n",
      " #   Column                  Non-Null Count  Dtype  \n",
      "---  ------                  --------------  -----  \n",
      " 0   user_id                 100 non-null    int64  \n",
      " 1   group                   100 non-null    object \n",
      " 2   landing_page            100 non-null    object \n",
      " 3   time_spent_on_the_page  100 non-null    float64\n",
      " 4   converted               100 non-null    object \n",
      " 5   language_preferred      100 non-null    object \n",
      "dtypes: float64(1), int64(1), object(4)\n",
      "memory usage: 4.8+ KB\n"
     ]
    }
   ],
   "source": [
    "df.info()"
   ]
  },
  {
   "cell_type": "markdown",
   "id": "6439765d",
   "metadata": {},
   "source": [
    "## **Checking for nulls**"
   ]
  },
  {
   "cell_type": "code",
   "execution_count": 8,
   "id": "741af559",
   "metadata": {},
   "outputs": [],
   "source": [
    "null_df = df.isnull() #cloned table - converts data into bool values"
   ]
  },
  {
   "cell_type": "code",
   "execution_count": 22,
   "id": "03f6c634",
   "metadata": {},
   "outputs": [
    {
     "data": {
      "text/html": [
       "<div>\n",
       "<style scoped>\n",
       "    .dataframe tbody tr th:only-of-type {\n",
       "        vertical-align: middle;\n",
       "    }\n",
       "\n",
       "    .dataframe tbody tr th {\n",
       "        vertical-align: top;\n",
       "    }\n",
       "\n",
       "    .dataframe thead th {\n",
       "        text-align: right;\n",
       "    }\n",
       "</style>\n",
       "<table border=\"1\" class=\"dataframe\">\n",
       "  <thead>\n",
       "    <tr style=\"text-align: right;\">\n",
       "      <th></th>\n",
       "      <th>user_id</th>\n",
       "      <th>group</th>\n",
       "      <th>landing_page</th>\n",
       "      <th>time_spent_on_the_page</th>\n",
       "      <th>converted</th>\n",
       "      <th>language_preferred</th>\n",
       "    </tr>\n",
       "  </thead>\n",
       "  <tbody>\n",
       "    <tr>\n",
       "      <th>0</th>\n",
       "      <td>False</td>\n",
       "      <td>False</td>\n",
       "      <td>False</td>\n",
       "      <td>False</td>\n",
       "      <td>False</td>\n",
       "      <td>False</td>\n",
       "    </tr>\n",
       "    <tr>\n",
       "      <th>1</th>\n",
       "      <td>False</td>\n",
       "      <td>False</td>\n",
       "      <td>False</td>\n",
       "      <td>False</td>\n",
       "      <td>False</td>\n",
       "      <td>False</td>\n",
       "    </tr>\n",
       "    <tr>\n",
       "      <th>2</th>\n",
       "      <td>False</td>\n",
       "      <td>False</td>\n",
       "      <td>False</td>\n",
       "      <td>False</td>\n",
       "      <td>False</td>\n",
       "      <td>False</td>\n",
       "    </tr>\n",
       "    <tr>\n",
       "      <th>3</th>\n",
       "      <td>False</td>\n",
       "      <td>False</td>\n",
       "      <td>False</td>\n",
       "      <td>False</td>\n",
       "      <td>False</td>\n",
       "      <td>False</td>\n",
       "    </tr>\n",
       "    <tr>\n",
       "      <th>4</th>\n",
       "      <td>False</td>\n",
       "      <td>False</td>\n",
       "      <td>False</td>\n",
       "      <td>False</td>\n",
       "      <td>False</td>\n",
       "      <td>False</td>\n",
       "    </tr>\n",
       "    <tr>\n",
       "      <th>...</th>\n",
       "      <td>...</td>\n",
       "      <td>...</td>\n",
       "      <td>...</td>\n",
       "      <td>...</td>\n",
       "      <td>...</td>\n",
       "      <td>...</td>\n",
       "    </tr>\n",
       "    <tr>\n",
       "      <th>95</th>\n",
       "      <td>False</td>\n",
       "      <td>False</td>\n",
       "      <td>False</td>\n",
       "      <td>False</td>\n",
       "      <td>False</td>\n",
       "      <td>False</td>\n",
       "    </tr>\n",
       "    <tr>\n",
       "      <th>96</th>\n",
       "      <td>False</td>\n",
       "      <td>False</td>\n",
       "      <td>False</td>\n",
       "      <td>False</td>\n",
       "      <td>False</td>\n",
       "      <td>False</td>\n",
       "    </tr>\n",
       "    <tr>\n",
       "      <th>97</th>\n",
       "      <td>False</td>\n",
       "      <td>False</td>\n",
       "      <td>False</td>\n",
       "      <td>False</td>\n",
       "      <td>False</td>\n",
       "      <td>False</td>\n",
       "    </tr>\n",
       "    <tr>\n",
       "      <th>98</th>\n",
       "      <td>False</td>\n",
       "      <td>False</td>\n",
       "      <td>False</td>\n",
       "      <td>False</td>\n",
       "      <td>False</td>\n",
       "      <td>False</td>\n",
       "    </tr>\n",
       "    <tr>\n",
       "      <th>99</th>\n",
       "      <td>False</td>\n",
       "      <td>False</td>\n",
       "      <td>False</td>\n",
       "      <td>False</td>\n",
       "      <td>False</td>\n",
       "      <td>False</td>\n",
       "    </tr>\n",
       "  </tbody>\n",
       "</table>\n",
       "<p>100 rows × 6 columns</p>\n",
       "</div>"
      ],
      "text/plain": [
       "    user_id  group  landing_page  time_spent_on_the_page  converted  \\\n",
       "0     False  False         False                   False      False   \n",
       "1     False  False         False                   False      False   \n",
       "2     False  False         False                   False      False   \n",
       "3     False  False         False                   False      False   \n",
       "4     False  False         False                   False      False   \n",
       "..      ...    ...           ...                     ...        ...   \n",
       "95    False  False         False                   False      False   \n",
       "96    False  False         False                   False      False   \n",
       "97    False  False         False                   False      False   \n",
       "98    False  False         False                   False      False   \n",
       "99    False  False         False                   False      False   \n",
       "\n",
       "    language_preferred  \n",
       "0                False  \n",
       "1                False  \n",
       "2                False  \n",
       "3                False  \n",
       "4                False  \n",
       "..                 ...  \n",
       "95               False  \n",
       "96               False  \n",
       "97               False  \n",
       "98               False  \n",
       "99               False  \n",
       "\n",
       "[100 rows x 6 columns]"
      ]
     },
     "execution_count": 22,
     "metadata": {},
     "output_type": "execute_result"
    }
   ],
   "source": [
    "null_df"
   ]
  },
  {
   "cell_type": "code",
   "execution_count": 20,
   "id": "0f58c79c",
   "metadata": {},
   "outputs": [],
   "source": [
    "#bool_cnt gives the count of True and False in the dataset\n",
    "\n",
    "def bool_cnt(a):\n",
    "    n_cnt = 0\n",
    "    nn_cnt = 0\n",
    "    for i in a:\n",
    "        if i == False:\n",
    "            nn_cnt+=1\n",
    "        else:\n",
    "            n_cnt+=1\n",
    "    print('True_count:',n_cnt)\n",
    "    print('False_count:',nn_cnt)"
   ]
  },
  {
   "cell_type": "code",
   "execution_count": 19,
   "id": "5dc07532",
   "metadata": {},
   "outputs": [
    {
     "name": "stdout",
     "output_type": "stream",
     "text": [
      "True_count: 0\n",
      "False_count: 100\n"
     ]
    }
   ],
   "source": [
    "#cheking for nulls -DC\n",
    "bool_cnt(null_df.user_id)"
   ]
  },
  {
   "cell_type": "code",
   "execution_count": 10,
   "id": "cb2ce4d1",
   "metadata": {},
   "outputs": [
    {
     "data": {
      "text/plain": [
       "user_id                   100\n",
       "group                     100\n",
       "landing_page              100\n",
       "time_spent_on_the_page    100\n",
       "converted                 100\n",
       "language_preferred        100\n",
       "dtype: int64"
      ]
     },
     "execution_count": 10,
     "metadata": {},
     "output_type": "execute_result"
    }
   ],
   "source": [
    "df.count() #original table count"
   ]
  },
  {
   "cell_type": "code",
   "execution_count": 23,
   "id": "5606fe97",
   "metadata": {},
   "outputs": [],
   "source": [
    "new_df = df.dropna() #removes the rows with empty cells if any exists"
   ]
  },
  {
   "cell_type": "code",
   "execution_count": 24,
   "id": "7285afad",
   "metadata": {},
   "outputs": [
    {
     "data": {
      "text/html": [
       "<div>\n",
       "<style scoped>\n",
       "    .dataframe tbody tr th:only-of-type {\n",
       "        vertical-align: middle;\n",
       "    }\n",
       "\n",
       "    .dataframe tbody tr th {\n",
       "        vertical-align: top;\n",
       "    }\n",
       "\n",
       "    .dataframe thead th {\n",
       "        text-align: right;\n",
       "    }\n",
       "</style>\n",
       "<table border=\"1\" class=\"dataframe\">\n",
       "  <thead>\n",
       "    <tr style=\"text-align: right;\">\n",
       "      <th></th>\n",
       "      <th>user_id</th>\n",
       "      <th>group</th>\n",
       "      <th>landing_page</th>\n",
       "      <th>time_spent_on_the_page</th>\n",
       "      <th>converted</th>\n",
       "      <th>language_preferred</th>\n",
       "    </tr>\n",
       "  </thead>\n",
       "  <tbody>\n",
       "    <tr>\n",
       "      <th>0</th>\n",
       "      <td>546592</td>\n",
       "      <td>control</td>\n",
       "      <td>old</td>\n",
       "      <td>3.48</td>\n",
       "      <td>no</td>\n",
       "      <td>Spanish</td>\n",
       "    </tr>\n",
       "    <tr>\n",
       "      <th>1</th>\n",
       "      <td>546468</td>\n",
       "      <td>treatment</td>\n",
       "      <td>new</td>\n",
       "      <td>7.13</td>\n",
       "      <td>yes</td>\n",
       "      <td>English</td>\n",
       "    </tr>\n",
       "    <tr>\n",
       "      <th>2</th>\n",
       "      <td>546462</td>\n",
       "      <td>treatment</td>\n",
       "      <td>new</td>\n",
       "      <td>4.40</td>\n",
       "      <td>no</td>\n",
       "      <td>Spanish</td>\n",
       "    </tr>\n",
       "    <tr>\n",
       "      <th>3</th>\n",
       "      <td>546567</td>\n",
       "      <td>control</td>\n",
       "      <td>old</td>\n",
       "      <td>3.02</td>\n",
       "      <td>no</td>\n",
       "      <td>French</td>\n",
       "    </tr>\n",
       "    <tr>\n",
       "      <th>4</th>\n",
       "      <td>546459</td>\n",
       "      <td>treatment</td>\n",
       "      <td>new</td>\n",
       "      <td>4.75</td>\n",
       "      <td>yes</td>\n",
       "      <td>Spanish</td>\n",
       "    </tr>\n",
       "    <tr>\n",
       "      <th>...</th>\n",
       "      <td>...</td>\n",
       "      <td>...</td>\n",
       "      <td>...</td>\n",
       "      <td>...</td>\n",
       "      <td>...</td>\n",
       "      <td>...</td>\n",
       "    </tr>\n",
       "    <tr>\n",
       "      <th>95</th>\n",
       "      <td>546446</td>\n",
       "      <td>treatment</td>\n",
       "      <td>new</td>\n",
       "      <td>5.15</td>\n",
       "      <td>no</td>\n",
       "      <td>Spanish</td>\n",
       "    </tr>\n",
       "    <tr>\n",
       "      <th>96</th>\n",
       "      <td>546544</td>\n",
       "      <td>control</td>\n",
       "      <td>old</td>\n",
       "      <td>6.52</td>\n",
       "      <td>yes</td>\n",
       "      <td>English</td>\n",
       "    </tr>\n",
       "    <tr>\n",
       "      <th>97</th>\n",
       "      <td>546472</td>\n",
       "      <td>treatment</td>\n",
       "      <td>new</td>\n",
       "      <td>7.07</td>\n",
       "      <td>yes</td>\n",
       "      <td>Spanish</td>\n",
       "    </tr>\n",
       "    <tr>\n",
       "      <th>98</th>\n",
       "      <td>546481</td>\n",
       "      <td>treatment</td>\n",
       "      <td>new</td>\n",
       "      <td>6.20</td>\n",
       "      <td>yes</td>\n",
       "      <td>Spanish</td>\n",
       "    </tr>\n",
       "    <tr>\n",
       "      <th>99</th>\n",
       "      <td>546483</td>\n",
       "      <td>treatment</td>\n",
       "      <td>new</td>\n",
       "      <td>5.86</td>\n",
       "      <td>yes</td>\n",
       "      <td>English</td>\n",
       "    </tr>\n",
       "  </tbody>\n",
       "</table>\n",
       "<p>100 rows × 6 columns</p>\n",
       "</div>"
      ],
      "text/plain": [
       "    user_id      group landing_page  time_spent_on_the_page converted  \\\n",
       "0    546592    control          old                    3.48        no   \n",
       "1    546468  treatment          new                    7.13       yes   \n",
       "2    546462  treatment          new                    4.40        no   \n",
       "3    546567    control          old                    3.02        no   \n",
       "4    546459  treatment          new                    4.75       yes   \n",
       "..      ...        ...          ...                     ...       ...   \n",
       "95   546446  treatment          new                    5.15        no   \n",
       "96   546544    control          old                    6.52       yes   \n",
       "97   546472  treatment          new                    7.07       yes   \n",
       "98   546481  treatment          new                    6.20       yes   \n",
       "99   546483  treatment          new                    5.86       yes   \n",
       "\n",
       "   language_preferred  \n",
       "0             Spanish  \n",
       "1             English  \n",
       "2             Spanish  \n",
       "3              French  \n",
       "4             Spanish  \n",
       "..                ...  \n",
       "95            Spanish  \n",
       "96            English  \n",
       "97            Spanish  \n",
       "98            Spanish  \n",
       "99            English  \n",
       "\n",
       "[100 rows x 6 columns]"
      ]
     },
     "execution_count": 24,
     "metadata": {},
     "output_type": "execute_result"
    }
   ],
   "source": [
    "new_df"
   ]
  },
  {
   "cell_type": "code",
   "execution_count": 25,
   "id": "14412358",
   "metadata": {},
   "outputs": [
    {
     "data": {
      "text/plain": [
       "user_id                   100\n",
       "group                     100\n",
       "landing_page              100\n",
       "time_spent_on_the_page    100\n",
       "converted                 100\n",
       "language_preferred        100\n",
       "dtype: int64"
      ]
     },
     "execution_count": 25,
     "metadata": {},
     "output_type": "execute_result"
    }
   ],
   "source": [
    "new_df.count() #new cloned table count"
   ]
  },
  {
   "cell_type": "markdown",
   "id": "3897eb3f",
   "metadata": {},
   "source": [
    "## With the above tests - confirming no nulls"
   ]
  },
  {
   "cell_type": "code",
   "execution_count": 167,
   "id": "e7f2e5f9",
   "metadata": {},
   "outputs": [
    {
     "data": {
      "text/plain": [
       "user_id                      546462\n",
       "group                     treatment\n",
       "landing_page                    new\n",
       "time_spent_on_the_page          4.4\n",
       "converted                        no\n",
       "language_preferred          Spanish\n",
       "Name: 2, dtype: object"
      ]
     },
     "execution_count": 167,
     "metadata": {},
     "output_type": "execute_result"
    }
   ],
   "source": [
    "df.loc[2] # gives you the specific row id"
   ]
  },
  {
   "cell_type": "code",
   "execution_count": 13,
   "id": "c37886a3",
   "metadata": {},
   "outputs": [
    {
     "data": {
      "text/plain": [
       "0     546592\n",
       "1     546468\n",
       "2     546462\n",
       "3     546567\n",
       "4     546459\n",
       "       ...  \n",
       "95    546446\n",
       "96    546544\n",
       "97    546472\n",
       "98    546481\n",
       "99    546483\n",
       "Name: user_id, Length: 100, dtype: int64"
      ]
     },
     "execution_count": 13,
     "metadata": {},
     "output_type": "execute_result"
    }
   ],
   "source": [
    "df['user_id']"
   ]
  },
  {
   "cell_type": "code",
   "execution_count": 14,
   "id": "dd26b264",
   "metadata": {},
   "outputs": [
    {
     "data": {
      "text/plain": [
       "0       control\n",
       "1     treatment\n",
       "2     treatment\n",
       "3       control\n",
       "4     treatment\n",
       "        ...    \n",
       "95    treatment\n",
       "96      control\n",
       "97    treatment\n",
       "98    treatment\n",
       "99    treatment\n",
       "Name: group, Length: 100, dtype: object"
      ]
     },
     "execution_count": 14,
     "metadata": {},
     "output_type": "execute_result"
    }
   ],
   "source": [
    "df.group"
   ]
  },
  {
   "cell_type": "code",
   "execution_count": 15,
   "id": "56ff3700",
   "metadata": {},
   "outputs": [
    {
     "data": {
      "text/plain": [
       "(100, 6)"
      ]
     },
     "execution_count": 15,
     "metadata": {},
     "output_type": "execute_result"
    }
   ],
   "source": [
    "df.shape"
   ]
  },
  {
   "cell_type": "markdown",
   "id": "9b843f1f",
   "metadata": {},
   "source": [
    "## Checking for Duplicates"
   ]
  },
  {
   "cell_type": "code",
   "execution_count": 27,
   "id": "61066dbd",
   "metadata": {},
   "outputs": [
    {
     "data": {
      "text/plain": [
       "0     False\n",
       "1     False\n",
       "2     False\n",
       "3     False\n",
       "4     False\n",
       "      ...  \n",
       "95    False\n",
       "96    False\n",
       "97    False\n",
       "98    False\n",
       "99    False\n",
       "Length: 100, dtype: bool"
      ]
     },
     "execution_count": 27,
     "metadata": {},
     "output_type": "execute_result"
    }
   ],
   "source": [
    "dups = df.duplicated() #checking for the duplicate values\n",
    "dups"
   ]
  },
  {
   "cell_type": "code",
   "execution_count": 28,
   "id": "427672d4",
   "metadata": {},
   "outputs": [
    {
     "name": "stdout",
     "output_type": "stream",
     "text": [
      "True_count: 0\n",
      "False_count: 100\n"
     ]
    }
   ],
   "source": [
    "bool_cnt(dups) # No duplicates in the table"
   ]
  },
  {
   "cell_type": "code",
   "execution_count": 30,
   "id": "0e0c877c",
   "metadata": {},
   "outputs": [],
   "source": [
    "new_dup = df #cloned original table"
   ]
  },
  {
   "cell_type": "code",
   "execution_count": 31,
   "id": "ddca6880",
   "metadata": {},
   "outputs": [],
   "source": [
    "new_dup.drop_duplicates(inplace=True) # this will drop duplicates if any exists."
   ]
  },
  {
   "cell_type": "code",
   "execution_count": 32,
   "id": "336b4e61",
   "metadata": {},
   "outputs": [
    {
     "data": {
      "text/plain": [
       "user_id                   100\n",
       "group                     100\n",
       "landing_page              100\n",
       "time_spent_on_the_page    100\n",
       "converted                 100\n",
       "language_preferred        100\n",
       "dtype: int64"
      ]
     },
     "execution_count": 32,
     "metadata": {},
     "output_type": "execute_result"
    }
   ],
   "source": [
    "new_dup.count() # we can see no rows were dropped - confirming no duplicates"
   ]
  },
  {
   "cell_type": "markdown",
   "id": "10f0851f",
   "metadata": {},
   "source": [
    "## With the above tests - No Duplicates in the dataset."
   ]
  },
  {
   "cell_type": "code",
   "execution_count": 24,
   "id": "4d6344b9",
   "metadata": {},
   "outputs": [
    {
     "data": {
      "text/html": [
       "<div>\n",
       "<style scoped>\n",
       "    .dataframe tbody tr th:only-of-type {\n",
       "        vertical-align: middle;\n",
       "    }\n",
       "\n",
       "    .dataframe tbody tr th {\n",
       "        vertical-align: top;\n",
       "    }\n",
       "\n",
       "    .dataframe thead th {\n",
       "        text-align: right;\n",
       "    }\n",
       "</style>\n",
       "<table border=\"1\" class=\"dataframe\">\n",
       "  <thead>\n",
       "    <tr style=\"text-align: right;\">\n",
       "      <th></th>\n",
       "      <th>user_id</th>\n",
       "      <th>group</th>\n",
       "      <th>landing_page</th>\n",
       "      <th>time_spent_on_the_page</th>\n",
       "      <th>converted</th>\n",
       "      <th>language_preferred</th>\n",
       "    </tr>\n",
       "  </thead>\n",
       "  <tbody>\n",
       "    <tr>\n",
       "      <th>0</th>\n",
       "      <td>546592</td>\n",
       "      <td>control</td>\n",
       "      <td>old</td>\n",
       "      <td>3.48</td>\n",
       "      <td>no</td>\n",
       "      <td>Spanish</td>\n",
       "    </tr>\n",
       "    <tr>\n",
       "      <th>1</th>\n",
       "      <td>546468</td>\n",
       "      <td>treatment</td>\n",
       "      <td>new</td>\n",
       "      <td>7.13</td>\n",
       "      <td>yes</td>\n",
       "      <td>English</td>\n",
       "    </tr>\n",
       "    <tr>\n",
       "      <th>2</th>\n",
       "      <td>546462</td>\n",
       "      <td>treatment</td>\n",
       "      <td>new</td>\n",
       "      <td>4.40</td>\n",
       "      <td>no</td>\n",
       "      <td>Spanish</td>\n",
       "    </tr>\n",
       "    <tr>\n",
       "      <th>3</th>\n",
       "      <td>546567</td>\n",
       "      <td>control</td>\n",
       "      <td>old</td>\n",
       "      <td>3.02</td>\n",
       "      <td>no</td>\n",
       "      <td>French</td>\n",
       "    </tr>\n",
       "    <tr>\n",
       "      <th>4</th>\n",
       "      <td>546459</td>\n",
       "      <td>treatment</td>\n",
       "      <td>new</td>\n",
       "      <td>4.75</td>\n",
       "      <td>yes</td>\n",
       "      <td>Spanish</td>\n",
       "    </tr>\n",
       "    <tr>\n",
       "      <th>...</th>\n",
       "      <td>...</td>\n",
       "      <td>...</td>\n",
       "      <td>...</td>\n",
       "      <td>...</td>\n",
       "      <td>...</td>\n",
       "      <td>...</td>\n",
       "    </tr>\n",
       "    <tr>\n",
       "      <th>95</th>\n",
       "      <td>546446</td>\n",
       "      <td>treatment</td>\n",
       "      <td>new</td>\n",
       "      <td>5.15</td>\n",
       "      <td>no</td>\n",
       "      <td>Spanish</td>\n",
       "    </tr>\n",
       "    <tr>\n",
       "      <th>96</th>\n",
       "      <td>546544</td>\n",
       "      <td>control</td>\n",
       "      <td>old</td>\n",
       "      <td>6.52</td>\n",
       "      <td>yes</td>\n",
       "      <td>English</td>\n",
       "    </tr>\n",
       "    <tr>\n",
       "      <th>97</th>\n",
       "      <td>546472</td>\n",
       "      <td>treatment</td>\n",
       "      <td>new</td>\n",
       "      <td>7.07</td>\n",
       "      <td>yes</td>\n",
       "      <td>Spanish</td>\n",
       "    </tr>\n",
       "    <tr>\n",
       "      <th>98</th>\n",
       "      <td>546481</td>\n",
       "      <td>treatment</td>\n",
       "      <td>new</td>\n",
       "      <td>6.20</td>\n",
       "      <td>yes</td>\n",
       "      <td>Spanish</td>\n",
       "    </tr>\n",
       "    <tr>\n",
       "      <th>99</th>\n",
       "      <td>546483</td>\n",
       "      <td>treatment</td>\n",
       "      <td>new</td>\n",
       "      <td>5.86</td>\n",
       "      <td>yes</td>\n",
       "      <td>English</td>\n",
       "    </tr>\n",
       "  </tbody>\n",
       "</table>\n",
       "<p>100 rows × 6 columns</p>\n",
       "</div>"
      ],
      "text/plain": [
       "    user_id      group landing_page  time_spent_on_the_page converted  \\\n",
       "0    546592    control          old                    3.48        no   \n",
       "1    546468  treatment          new                    7.13       yes   \n",
       "2    546462  treatment          new                    4.40        no   \n",
       "3    546567    control          old                    3.02        no   \n",
       "4    546459  treatment          new                    4.75       yes   \n",
       "..      ...        ...          ...                     ...       ...   \n",
       "95   546446  treatment          new                    5.15        no   \n",
       "96   546544    control          old                    6.52       yes   \n",
       "97   546472  treatment          new                    7.07       yes   \n",
       "98   546481  treatment          new                    6.20       yes   \n",
       "99   546483  treatment          new                    5.86       yes   \n",
       "\n",
       "   language_preferred  \n",
       "0             Spanish  \n",
       "1             English  \n",
       "2             Spanish  \n",
       "3              French  \n",
       "4             Spanish  \n",
       "..                ...  \n",
       "95            Spanish  \n",
       "96            English  \n",
       "97            Spanish  \n",
       "98            Spanish  \n",
       "99            English  \n",
       "\n",
       "[100 rows x 6 columns]"
      ]
     },
     "execution_count": 24,
     "metadata": {},
     "output_type": "execute_result"
    }
   ],
   "source": [
    "df"
   ]
  },
  {
   "cell_type": "code",
   "execution_count": 33,
   "id": "db633ffc",
   "metadata": {},
   "outputs": [
    {
     "data": {
      "text/html": [
       "<div>\n",
       "<style scoped>\n",
       "    .dataframe tbody tr th:only-of-type {\n",
       "        vertical-align: middle;\n",
       "    }\n",
       "\n",
       "    .dataframe tbody tr th {\n",
       "        vertical-align: top;\n",
       "    }\n",
       "\n",
       "    .dataframe thead th {\n",
       "        text-align: right;\n",
       "    }\n",
       "</style>\n",
       "<table border=\"1\" class=\"dataframe\">\n",
       "  <thead>\n",
       "    <tr style=\"text-align: right;\">\n",
       "      <th></th>\n",
       "      <th>group</th>\n",
       "      <th>landing_page</th>\n",
       "      <th>converted</th>\n",
       "      <th>language_preferred</th>\n",
       "    </tr>\n",
       "  </thead>\n",
       "  <tbody>\n",
       "    <tr>\n",
       "      <th>count</th>\n",
       "      <td>100</td>\n",
       "      <td>100</td>\n",
       "      <td>100</td>\n",
       "      <td>100</td>\n",
       "    </tr>\n",
       "    <tr>\n",
       "      <th>unique</th>\n",
       "      <td>2</td>\n",
       "      <td>2</td>\n",
       "      <td>2</td>\n",
       "      <td>3</td>\n",
       "    </tr>\n",
       "    <tr>\n",
       "      <th>top</th>\n",
       "      <td>control</td>\n",
       "      <td>old</td>\n",
       "      <td>yes</td>\n",
       "      <td>Spanish</td>\n",
       "    </tr>\n",
       "    <tr>\n",
       "      <th>freq</th>\n",
       "      <td>50</td>\n",
       "      <td>50</td>\n",
       "      <td>54</td>\n",
       "      <td>34</td>\n",
       "    </tr>\n",
       "  </tbody>\n",
       "</table>\n",
       "</div>"
      ],
      "text/plain": [
       "          group landing_page converted language_preferred\n",
       "count       100          100       100                100\n",
       "unique        2            2         2                  3\n",
       "top     control          old       yes            Spanish\n",
       "freq         50           50        54                 34"
      ]
     },
     "execution_count": 33,
     "metadata": {},
     "output_type": "execute_result"
    }
   ],
   "source": [
    "df.describe(include = 'object') # categorised statistical data"
   ]
  },
  {
   "cell_type": "markdown",
   "id": "2ed5e3b6",
   "metadata": {},
   "source": [
    "## Control Group - old/existing page\n",
    "\n",
    "## Treatment Group - new page"
   ]
  },
  {
   "cell_type": "markdown",
   "id": "6bb898c7",
   "metadata": {},
   "source": [
    "# Univariate Analysis and EDA"
   ]
  },
  {
   "cell_type": "code",
   "execution_count": 64,
   "id": "3fa1019c",
   "metadata": {},
   "outputs": [
    {
     "data": {
      "text/plain": [
       "group\n",
       "control      50\n",
       "treatment    50\n",
       "Name: user_id, dtype: int64"
      ]
     },
     "execution_count": 64,
     "metadata": {},
     "output_type": "execute_result"
    }
   ],
   "source": [
    "rs = df.groupby('group')['user_id'].count()\n",
    "rs"
   ]
  },
  {
   "cell_type": "code",
   "execution_count": 62,
   "id": "2b919164",
   "metadata": {},
   "outputs": [
    {
     "data": {
      "text/plain": [
       "[50, 50]"
      ]
     },
     "execution_count": 62,
     "metadata": {},
     "output_type": "execute_result"
    }
   ],
   "source": [
    "rs = list(rs)\n",
    "rs"
   ]
  },
  {
   "cell_type": "code",
   "execution_count": 100,
   "id": "74a2091b",
   "metadata": {},
   "outputs": [
    {
     "data": {
      "text/plain": [
       "<BarContainer object of 2 artists>"
      ]
     },
     "execution_count": 100,
     "metadata": {},
     "output_type": "execute_result"
    },
    {
     "data": {
      "image/png": "[encoded data removed]",
      "text/plain": [
       "<Figure size 432x288 with 1 Axes>"
      ]
     },
     "metadata": {
      "needs_background": "light"
     },
     "output_type": "display_data"
    }
   ],
   "source": [
    "x = df.group.unique()\n",
    "y = rs\n",
    "plt.bar(x,y)"
   ]
  },
  {
   "cell_type": "code",
   "execution_count": 59,
   "id": "16906874",
   "metadata": {
    "scrolled": true
   },
   "outputs": [
    {
     "data": {
      "image/png": "[encoded data removed]",
      "text/plain": [
       "<Figure size 432x288 with 1 Axes>"
      ]
     },
     "metadata": {
      "needs_background": "light"
     },
     "output_type": "display_data"
    }
   ],
   "source": [
    "sb.countplot(data=df,x='group')\n",
    "plt.show()"
   ]
  },
  {
   "cell_type": "markdown",
   "id": "7292d2a0",
   "metadata": {},
   "source": [
    "## The data is equally splitted amongst new/Treatment and old/Control groups"
   ]
  },
  {
   "cell_type": "code",
   "execution_count": 122,
   "id": "3f4ff491",
   "metadata": {},
   "outputs": [
    {
     "data": {
      "text/plain": [
       "landing_page\n",
       "new    50\n",
       "old    50\n",
       "Name: user_id, dtype: int64"
      ]
     },
     "execution_count": 122,
     "metadata": {},
     "output_type": "execute_result"
    }
   ],
   "source": [
    "df.groupby('landing_page')['user_id'].count()"
   ]
  },
  {
   "cell_type": "code",
   "execution_count": 103,
   "id": "3d936795",
   "metadata": {},
   "outputs": [
    {
     "data": {
      "text/plain": [
       "<AxesSubplot:xlabel='landing_page', ylabel='count'>"
      ]
     },
     "execution_count": 103,
     "metadata": {},
     "output_type": "execute_result"
    },
    {
     "data": {
      "image/png": "[encoded data removed]",
      "text/plain": [
       "<Figure size 432x288 with 1 Axes>"
      ]
     },
     "metadata": {
      "needs_background": "light"
     },
     "output_type": "display_data"
    }
   ],
   "source": [
    "sb.countplot(data=df,x='landing_page')"
   ]
  },
  {
   "cell_type": "markdown",
   "id": "a47bcbaa",
   "metadata": {},
   "source": [
    "## With the above analysis we can see - Data is equally splitted amongst Old and New landing_page"
   ]
  },
  {
   "cell_type": "code",
   "execution_count": 106,
   "id": "ad5d639e",
   "metadata": {},
   "outputs": [
    {
     "data": {
      "text/plain": [
       "<AxesSubplot:xlabel='time_spent_on_the_page', ylabel='Count'>"
      ]
     },
     "execution_count": 106,
     "metadata": {},
     "output_type": "execute_result"
    },
    {
     "data": {
      "image/png": "[encoded data removed]",
      "text/plain": [
       "<Figure size 432x288 with 1 Axes>"
      ]
     },
     "metadata": {
      "needs_background": "light"
     },
     "output_type": "display_data"
    }
   ],
   "source": [
    "# Time spent on the page\n",
    "sb.histplot(data=df,x='time_spent_on_the_page')"
   ]
  },
  {
   "cell_type": "code",
   "execution_count": 119,
   "id": "75743d31",
   "metadata": {},
   "outputs": [
    {
     "data": {
      "text/plain": [
       "<AxesSubplot:xlabel='time_spent_on_the_page', ylabel='count'>"
      ]
     },
     "execution_count": 119,
     "metadata": {},
     "output_type": "execute_result"
    },
    {
     "data": {
      "image/png": "[encoded data removed]",
      "text/plain": [
       "<Figure size 432x288 with 1 Axes>"
      ]
     },
     "metadata": {
      "needs_background": "light"
     },
     "output_type": "display_data"
    }
   ],
   "source": [
    "sb.countplot(data=df,x='time_spent_on_the_page')"
   ]
  },
  {
   "cell_type": "code",
   "execution_count": 112,
   "id": "6989ff86",
   "metadata": {},
   "outputs": [
    {
     "data": {
      "image/png": "[encoded data removed]",
      "text/plain": [
       "<Figure size 432x288 with 1 Axes>"
      ]
     },
     "metadata": {
      "needs_background": "light"
     },
     "output_type": "display_data"
    }
   ],
   "source": [
    "sb.boxplot(data=df,x='time_spent_on_the_page')\n",
    "plt.show()"
   ]
  },
  {
   "cell_type": "markdown",
   "id": "d023ab43",
   "metadata": {},
   "source": [
    "## With above analysis - data falls between lower quartile and highest quartile - No Outliers\n"
   ]
  },
  {
   "cell_type": "code",
   "execution_count": 125,
   "id": "ba839094",
   "metadata": {},
   "outputs": [
    {
     "data": {
      "text/plain": [
       "converted\n",
       "no     46\n",
       "yes    54\n",
       "Name: user_id, dtype: int64"
      ]
     },
     "execution_count": 125,
     "metadata": {},
     "output_type": "execute_result"
    }
   ],
   "source": [
    "df.groupby('converted')['user_id'].count()"
   ]
  },
  {
   "cell_type": "code",
   "execution_count": 120,
   "id": "cd494a72",
   "metadata": {},
   "outputs": [
    {
     "data": {
      "text/plain": [
       "<AxesSubplot:xlabel='converted', ylabel='count'>"
      ]
     },
     "execution_count": 120,
     "metadata": {},
     "output_type": "execute_result"
    },
    {
     "data": {
      "image/png": "[encoded data removed]",
      "text/plain": [
       "<Figure size 432x288 with 1 Axes>"
      ]
     },
     "metadata": {
      "needs_background": "light"
     },
     "output_type": "display_data"
    }
   ],
   "source": [
    "sb.countplot(data=df,x='converted')"
   ]
  },
  {
   "cell_type": "markdown",
   "id": "43a4498a",
   "metadata": {},
   "source": [
    "##  It seems that a greater number of users have switched to the new landing page."
   ]
  },
  {
   "cell_type": "code",
   "execution_count": 126,
   "id": "e84a8228",
   "metadata": {},
   "outputs": [
    {
     "data": {
      "text/plain": [
       "language_preferred\n",
       "English    32\n",
       "French     34\n",
       "Spanish    34\n",
       "Name: user_id, dtype: int64"
      ]
     },
     "execution_count": 126,
     "metadata": {},
     "output_type": "execute_result"
    }
   ],
   "source": [
    "df.groupby('language_preferred')['user_id'].count()"
   ]
  },
  {
   "cell_type": "code",
   "execution_count": 128,
   "id": "12f9a57e",
   "metadata": {},
   "outputs": [
    {
     "data": {
      "text/plain": [
       "<AxesSubplot:xlabel='language_preferred', ylabel='count'>"
      ]
     },
     "execution_count": 128,
     "metadata": {},
     "output_type": "execute_result"
    },
    {
     "data": {
      "image/png": "[encoded data removed]",
      "text/plain": [
       "<Figure size 432x288 with 1 Axes>"
      ]
     },
     "metadata": {
      "needs_background": "light"
     },
     "output_type": "display_data"
    }
   ],
   "source": [
    "sb.countplot(data=df,x='language_preferred')"
   ]
  },
  {
   "cell_type": "markdown",
   "id": "5142ed61",
   "metadata": {},
   "source": [
    "## With the above analysis we can say that, users with Spanish and French preferred languages visists the site more."
   ]
  },
  {
   "cell_type": "code",
   "execution_count": 129,
   "id": "76c837d4",
   "metadata": {},
   "outputs": [
    {
     "data": {
      "text/html": [
       "<div>\n",
       "<style scoped>\n",
       "    .dataframe tbody tr th:only-of-type {\n",
       "        vertical-align: middle;\n",
       "    }\n",
       "\n",
       "    .dataframe tbody tr th {\n",
       "        vertical-align: top;\n",
       "    }\n",
       "\n",
       "    .dataframe thead th {\n",
       "        text-align: right;\n",
       "    }\n",
       "</style>\n",
       "<table border=\"1\" class=\"dataframe\">\n",
       "  <thead>\n",
       "    <tr style=\"text-align: right;\">\n",
       "      <th></th>\n",
       "      <th>user_id</th>\n",
       "      <th>group</th>\n",
       "      <th>landing_page</th>\n",
       "      <th>time_spent_on_the_page</th>\n",
       "      <th>converted</th>\n",
       "      <th>language_preferred</th>\n",
       "    </tr>\n",
       "  </thead>\n",
       "  <tbody>\n",
       "    <tr>\n",
       "      <th>0</th>\n",
       "      <td>546592</td>\n",
       "      <td>control</td>\n",
       "      <td>old</td>\n",
       "      <td>3.48</td>\n",
       "      <td>no</td>\n",
       "      <td>Spanish</td>\n",
       "    </tr>\n",
       "    <tr>\n",
       "      <th>1</th>\n",
       "      <td>546468</td>\n",
       "      <td>treatment</td>\n",
       "      <td>new</td>\n",
       "      <td>7.13</td>\n",
       "      <td>yes</td>\n",
       "      <td>English</td>\n",
       "    </tr>\n",
       "    <tr>\n",
       "      <th>2</th>\n",
       "      <td>546462</td>\n",
       "      <td>treatment</td>\n",
       "      <td>new</td>\n",
       "      <td>4.40</td>\n",
       "      <td>no</td>\n",
       "      <td>Spanish</td>\n",
       "    </tr>\n",
       "    <tr>\n",
       "      <th>3</th>\n",
       "      <td>546567</td>\n",
       "      <td>control</td>\n",
       "      <td>old</td>\n",
       "      <td>3.02</td>\n",
       "      <td>no</td>\n",
       "      <td>French</td>\n",
       "    </tr>\n",
       "    <tr>\n",
       "      <th>4</th>\n",
       "      <td>546459</td>\n",
       "      <td>treatment</td>\n",
       "      <td>new</td>\n",
       "      <td>4.75</td>\n",
       "      <td>yes</td>\n",
       "      <td>Spanish</td>\n",
       "    </tr>\n",
       "    <tr>\n",
       "      <th>...</th>\n",
       "      <td>...</td>\n",
       "      <td>...</td>\n",
       "      <td>...</td>\n",
       "      <td>...</td>\n",
       "      <td>...</td>\n",
       "      <td>...</td>\n",
       "    </tr>\n",
       "    <tr>\n",
       "      <th>95</th>\n",
       "      <td>546446</td>\n",
       "      <td>treatment</td>\n",
       "      <td>new</td>\n",
       "      <td>5.15</td>\n",
       "      <td>no</td>\n",
       "      <td>Spanish</td>\n",
       "    </tr>\n",
       "    <tr>\n",
       "      <th>96</th>\n",
       "      <td>546544</td>\n",
       "      <td>control</td>\n",
       "      <td>old</td>\n",
       "      <td>6.52</td>\n",
       "      <td>yes</td>\n",
       "      <td>English</td>\n",
       "    </tr>\n",
       "    <tr>\n",
       "      <th>97</th>\n",
       "      <td>546472</td>\n",
       "      <td>treatment</td>\n",
       "      <td>new</td>\n",
       "      <td>7.07</td>\n",
       "      <td>yes</td>\n",
       "      <td>Spanish</td>\n",
       "    </tr>\n",
       "    <tr>\n",
       "      <th>98</th>\n",
       "      <td>546481</td>\n",
       "      <td>treatment</td>\n",
       "      <td>new</td>\n",
       "      <td>6.20</td>\n",
       "      <td>yes</td>\n",
       "      <td>Spanish</td>\n",
       "    </tr>\n",
       "    <tr>\n",
       "      <th>99</th>\n",
       "      <td>546483</td>\n",
       "      <td>treatment</td>\n",
       "      <td>new</td>\n",
       "      <td>5.86</td>\n",
       "      <td>yes</td>\n",
       "      <td>English</td>\n",
       "    </tr>\n",
       "  </tbody>\n",
       "</table>\n",
       "<p>100 rows × 6 columns</p>\n",
       "</div>"
      ],
      "text/plain": [
       "    user_id      group landing_page  time_spent_on_the_page converted  \\\n",
       "0    546592    control          old                    3.48        no   \n",
       "1    546468  treatment          new                    7.13       yes   \n",
       "2    546462  treatment          new                    4.40        no   \n",
       "3    546567    control          old                    3.02        no   \n",
       "4    546459  treatment          new                    4.75       yes   \n",
       "..      ...        ...          ...                     ...       ...   \n",
       "95   546446  treatment          new                    5.15        no   \n",
       "96   546544    control          old                    6.52       yes   \n",
       "97   546472  treatment          new                    7.07       yes   \n",
       "98   546481  treatment          new                    6.20       yes   \n",
       "99   546483  treatment          new                    5.86       yes   \n",
       "\n",
       "   language_preferred  \n",
       "0             Spanish  \n",
       "1             English  \n",
       "2             Spanish  \n",
       "3              French  \n",
       "4             Spanish  \n",
       "..                ...  \n",
       "95            Spanish  \n",
       "96            English  \n",
       "97            Spanish  \n",
       "98            Spanish  \n",
       "99            English  \n",
       "\n",
       "[100 rows x 6 columns]"
      ]
     },
     "execution_count": 129,
     "metadata": {},
     "output_type": "execute_result"
    }
   ],
   "source": [
    "df"
   ]
  },
  {
   "cell_type": "markdown",
   "id": "cde5a19b",
   "metadata": {},
   "source": [
    "# Bivariate analysis and EDA"
   ]
  },
  {
   "cell_type": "code",
   "execution_count": 130,
   "id": "78728494",
   "metadata": {},
   "outputs": [
    {
     "data": {
      "text/plain": [
       "<AxesSubplot:xlabel='group', ylabel='time_spent_on_the_page'>"
      ]
     },
     "execution_count": 130,
     "metadata": {},
     "output_type": "execute_result"
    },
    {
     "data": {
      "image/png": "[encoded data removed]",
      "text/plain": [
       "<Figure size 432x288 with 1 Axes>"
      ]
     },
     "metadata": {
      "needs_background": "light"
     },
     "output_type": "display_data"
    }
   ],
   "source": [
    "#group vs time_spent_on_the_page\n",
    "sb.barplot(data=df,x = 'group',y='time_spent_on_the_page')"
   ]
  },
  {
   "cell_type": "code",
   "execution_count": 132,
   "id": "5607b116",
   "metadata": {},
   "outputs": [
    {
     "data": {
      "text/plain": [
       "<AxesSubplot:xlabel='group', ylabel='time_spent_on_the_page'>"
      ]
     },
     "execution_count": 132,
     "metadata": {},
     "output_type": "execute_result"
    },
    {
     "data": {
      "image/png": "[encoded data removed]",
      "text/plain": [
       "<Figure size 432x288 with 1 Axes>"
      ]
     },
     "metadata": {
      "needs_background": "light"
     },
     "output_type": "display_data"
    }
   ],
   "source": [
    "sb.boxplot(data=df,x='group',y='time_spent_on_the_page')"
   ]
  },
  {
   "cell_type": "markdown",
   "id": "2af5911e",
   "metadata": {},
   "source": [
    "## This shows that users have spent more time on new landing page"
   ]
  },
  {
   "cell_type": "code",
   "execution_count": 134,
   "id": "02508b38",
   "metadata": {},
   "outputs": [
    {
     "data": {
      "text/plain": [
       "<AxesSubplot:xlabel='converted', ylabel='time_spent_on_the_page'>"
      ]
     },
     "execution_count": 134,
     "metadata": {},
     "output_type": "execute_result"
    },
    {
     "data": {
      "image/png": "[encoded data removed]",
      "text/plain": [
       "<Figure size 432x288 with 1 Axes>"
      ]
     },
     "metadata": {
      "needs_background": "light"
     },
     "output_type": "display_data"
    }
   ],
   "source": [
    "#Converted vs Time_spent_on_the_page\n",
    "sb.barplot(data=df,x = 'converted',y='time_spent_on_the_page')"
   ]
  },
  {
   "cell_type": "markdown",
   "id": "bb195285",
   "metadata": {},
   "source": [
    "## This shows that converted users have spent more time on the page."
   ]
  },
  {
   "cell_type": "code",
   "execution_count": 158,
   "id": "5fb55b66",
   "metadata": {},
   "outputs": [
    {
     "data": {
      "image/png": "[encoded data removed]",
      "text/plain": [
       "<Figure size 432x288 with 1 Axes>"
      ]
     },
     "metadata": {
      "needs_background": "light"
     },
     "output_type": "display_data"
    }
   ],
   "source": [
    "#language preferred vs time_spent_on_the_page\n",
    "sb.barplot(data=df,x = 'language_preferred',y='time_spent_on_the_page')\n",
    "plt.show()"
   ]
  },
  {
   "cell_type": "markdown",
   "id": "3a6b7bfc",
   "metadata": {},
   "source": [
    "## Time spent on the page is similar for all preferred languages. but, English preferred users are likely to spend the time on page where as spanish has little lower time spent compared to English"
   ]
  },
  {
   "cell_type": "code",
   "execution_count": 137,
   "id": "f1f997f0",
   "metadata": {},
   "outputs": [
    {
     "data": {
      "text/plain": [
       "language_preferred\n",
       "English    177.89\n",
       "French     178.61\n",
       "Spanish    181.28\n",
       "Name: time_spent_on_the_page, dtype: float64"
      ]
     },
     "execution_count": 137,
     "metadata": {},
     "output_type": "execute_result"
    }
   ],
   "source": [
    "# if we sum the overall users time spent - Spanish is on top\n",
    "df.groupby('language_preferred')['time_spent_on_the_page'].sum()"
   ]
  },
  {
   "cell_type": "code",
   "execution_count": 157,
   "id": "eee61a5e",
   "metadata": {},
   "outputs": [
    {
     "data": {
      "image/png": "[encoded data removed]",
      "text/plain": [
       "<Figure size 432x288 with 1 Axes>"
      ]
     },
     "metadata": {},
     "output_type": "display_data"
    }
   ],
   "source": [
    "lt = df.groupby('language_preferred')['time_spent_on_the_page'].sum()\n",
    "d = dict(lt)\n",
    "l1 = list(d.keys())\n",
    "l2 = list(d.values())\n",
    "plt.pie(l2,labels=l1,autopct='%1.1f%%')\n",
    "plt.show()"
   ]
  },
  {
   "cell_type": "markdown",
   "id": "b90ad922",
   "metadata": {},
   "source": [
    "## This shows Spanish preferred language has more time spent on overall sum of users spent time"
   ]
  },
  {
   "cell_type": "code",
   "execution_count": 172,
   "id": "ddf134ca",
   "metadata": {},
   "outputs": [
    {
     "data": {
      "image/png": "[encoded data removed]",
      "text/plain": [
       "<Figure size 432x288 with 1 Axes>"
      ]
     },
     "metadata": {
      "needs_background": "light"
     },
     "output_type": "display_data"
    }
   ],
   "source": [
    "# group vs time_spent_on_the_page vs converted\n",
    "sb.barplot(data=df, x='group', y='time_spent_on_the_page', hue='converted');"
   ]
  },
  {
   "cell_type": "markdown",
   "id": "d928bbe5",
   "metadata": {},
   "source": [
    "## This shows more people converted to treatment group compared to the control group. Users in the treatment group has the more spent time compared to the control group."
   ]
  },
  {
   "cell_type": "markdown",
   "id": "80eecbf2",
   "metadata": {},
   "source": [
    "## "
   ]
  },
  {
   "cell_type": "markdown",
   "id": "eae62df0",
   "metadata": {},
   "source": [
    "# 1) Do the users spend more time on the new landing page than on the existing landing page?"
   ]
  },
  {
   "cell_type": "code",
   "execution_count": 164,
   "id": "236f929e",
   "metadata": {},
   "outputs": [
    {
     "data": {
      "image/png": "[encoded data removed]",
      "text/plain": [
       "<Figure size 432x288 with 1 Axes>"
      ]
     },
     "metadata": {
      "needs_background": "light"
     },
     "output_type": "display_data"
    },
    {
     "data": {
      "image/png": "[encoded data removed]",
      "text/plain": [
       "<Figure size 432x288 with 1 Axes>"
      ]
     },
     "metadata": {
      "needs_background": "light"
     },
     "output_type": "display_data"
    }
   ],
   "source": [
    "# perform visual analysis\n",
    "sb.barplot(data=df,x='landing_page',y='time_spent_on_the_page')\n",
    "plt.show()\n",
    "sb.boxplot(data=df,x='landing_page',y='time_spent_on_the_page')\n",
    "plt.show()"
   ]
  },
  {
   "cell_type": "markdown",
   "id": "b632a1a4",
   "metadata": {},
   "source": [
    "## The average time spent on the new page is greater than the old page."
   ]
  },
  {
   "cell_type": "markdown",
   "id": "8655da6a",
   "metadata": {},
   "source": [
    "## Performing null hypothesis and alternative hypothesis"
   ]
  },
  {
   "cell_type": "code",
   "execution_count": 187,
   "id": "54edfd7d",
   "metadata": {},
   "outputs": [],
   "source": [
    "# Dividing the data into two parts using landing_page column\n",
    "old_time_spent = df[df['landing_page'] == 'old']['time_spent_on_the_page']\n",
    "new_time_spent = df[df['landing_page'] == 'new']['time_spent_on_the_page']"
   ]
  },
  {
   "cell_type": "code",
   "execution_count": 191,
   "id": "e0bee6b1",
   "metadata": {},
   "outputs": [
    {
     "name": "stdout",
     "output_type": "stream",
     "text": [
      "standart deviation of Old page time spent: 2.58\n",
      "standart deviation of New page time spent: 1.82\n"
     ]
    }
   ],
   "source": [
    "os = round(old_time_spent.std(),2)\n",
    "print(f'standart deviation of Old page time spent: {os}')\n",
    "ns = round(new_time_spent.std(),2)\n",
    "print(f'standart deviation of New page time spent: {ns}')"
   ]
  },
  {
   "cell_type": "markdown",
   "id": "6cb26a45",
   "metadata": {},
   "source": [
    "## we can see that both standard deviation values are quiet different"
   ]
  },
  {
   "cell_type": "markdown",
   "id": "6aa89d3b",
   "metadata": {},
   "source": [
    "## Hypothesis Testing - Independent T-test for two samples\n",
    "### Independent populations: The two samples come from two distinct populations because we are selecting random samples for two distinct groups.\n",
    "### Continuous data: Yes, a continuous scale is used to measure the amount of time spent on the pages.\n",
    "### Unequal population standard deviations: It is possible to expect that the population standard deviations differ because the sample standard deviations differ.\n",
    "### Random sampling from the population - Yes, collected information is a random sample."
   ]
  },
  {
   "cell_type": "markdown",
   "id": "aa7ba90b",
   "metadata": {},
   "source": [
    "## "
   ]
  },
  {
   "cell_type": "markdown",
   "id": "313a3fa4",
   "metadata": {},
   "source": [
    "## Finding the P Value and comparing with singnificance value 5% equals to 0.05"
   ]
  },
  {
   "cell_type": "code",
   "execution_count": 223,
   "id": "3175a0be",
   "metadata": {},
   "outputs": [
    {
     "name": "stdout",
     "output_type": "stream",
     "text": [
      "3.7867702694199856\n",
      "p_value:  0.0001392\n"
     ]
    }
   ],
   "source": [
    "#calculating the p value\n",
    "from scipy.stats import ttest_ind \n",
    "test_stats, p_value =  ttest_ind(new_time_spent, old_time_spent, equal_var = False, alternative = 'greater')  \n",
    "print(test_stats)\n",
    "p_value = round(p_value,7)\n",
    "print('p_value: ',p_value)"
   ]
  },
  {
   "cell_type": "code",
   "execution_count": 209,
   "id": "4d572044",
   "metadata": {},
   "outputs": [
    {
     "name": "stdout",
     "output_type": "stream",
     "text": [
      "Reject the null hypothesis, since p_value 0.0001392 is less than the significance value.\n"
     ]
    }
   ],
   "source": [
    "#comparing with singnificance value = 0.05\n",
    "sv = 0.05\n",
    "if p_value <= sv:\n",
    "    print(f'Reject the null hypothesis, since p_value {p_value} is less than the significance value.')\n",
    "else:\n",
    "    print(f'Do not reject the null hypothesis, since p_value {p_value} is less than the significance value.')"
   ]
  },
  {
   "cell_type": "markdown",
   "id": "d2b989bf",
   "metadata": {},
   "source": [
    "##  Inference based on the p-value"
   ]
  },
  {
   "cell_type": "markdown",
   "id": "f3ff331f",
   "metadata": {},
   "source": [
    "### Rejecting the null hypothesis, since p_value 0.0001392 is less than the significance value. By, this we can say that average time spent by the users on the new page is greater compared to the old page."
   ]
  },
  {
   "cell_type": "markdown",
   "id": "d00051a3",
   "metadata": {},
   "source": [
    "## "
   ]
  },
  {
   "cell_type": "markdown",
   "id": "2d5acb8b",
   "metadata": {},
   "source": [
    "# 2) Is the conversion rate (the proportion of users who visit the landing page and get converted) for the new page greater than the conversion rate for the old page?"
   ]
  },
  {
   "cell_type": "code",
   "execution_count": 211,
   "id": "9377bf4c",
   "metadata": {},
   "outputs": [
    {
     "data": {
      "text/html": [
       "<div>\n",
       "<style scoped>\n",
       "    .dataframe tbody tr th:only-of-type {\n",
       "        vertical-align: middle;\n",
       "    }\n",
       "\n",
       "    .dataframe tbody tr th {\n",
       "        vertical-align: top;\n",
       "    }\n",
       "\n",
       "    .dataframe thead th {\n",
       "        text-align: right;\n",
       "    }\n",
       "</style>\n",
       "<table border=\"1\" class=\"dataframe\">\n",
       "  <thead>\n",
       "    <tr style=\"text-align: right;\">\n",
       "      <th>converted</th>\n",
       "      <th>no</th>\n",
       "      <th>yes</th>\n",
       "    </tr>\n",
       "    <tr>\n",
       "      <th>landing_page</th>\n",
       "      <th></th>\n",
       "      <th></th>\n",
       "    </tr>\n",
       "  </thead>\n",
       "  <tbody>\n",
       "    <tr>\n",
       "      <th>new</th>\n",
       "      <td>17</td>\n",
       "      <td>33</td>\n",
       "    </tr>\n",
       "    <tr>\n",
       "      <th>old</th>\n",
       "      <td>29</td>\n",
       "      <td>21</td>\n",
       "    </tr>\n",
       "  </tbody>\n",
       "</table>\n",
       "</div>"
      ],
      "text/plain": [
       "converted     no  yes\n",
       "landing_page         \n",
       "new           17   33\n",
       "old           29   21"
      ]
     },
     "execution_count": 211,
     "metadata": {},
     "output_type": "execute_result"
    }
   ],
   "source": [
    "#perform visualize analysis\n",
    "pd.crosstab(df['landing_page'],df['converted'])"
   ]
  },
  {
   "cell_type": "code",
   "execution_count": 215,
   "id": "628c8c2b",
   "metadata": {},
   "outputs": [
    {
     "data": {
      "image/png": "[encoded data removed]",
      "text/plain": [
       "<Figure size 432x288 with 1 Axes>"
      ]
     },
     "metadata": {
      "needs_background": "light"
     },
     "output_type": "display_data"
    }
   ],
   "source": [
    "pd.crosstab(df['landing_page'],df['converted']).plot(kind=\"bar\",stacked=True)\n",
    "plt.legend()\n",
    "plt.show()"
   ]
  },
  {
   "cell_type": "markdown",
   "id": "6a051411",
   "metadata": {},
   "source": [
    "## Users on the new landing page are more likely to convert users than the old landing page."
   ]
  },
  {
   "cell_type": "markdown",
   "id": "fad0485a",
   "metadata": {},
   "source": [
    "## Performing null hypothesis and alternative hypothesis"
   ]
  },
  {
   "cell_type": "code",
   "execution_count": 230,
   "id": "3e8f4fcf",
   "metadata": {},
   "outputs": [
    {
     "name": "stdout",
     "output_type": "stream",
     "text": [
      "The numbers of users served the new and old pages are 50 and 50 respectively\n"
     ]
    }
   ],
   "source": [
    "#dividing into two parts to calculate the null and alternative hypothesis\n",
    "new_converted = df[df['group'] == 'treatment']['converted'].value_counts()['yes']\n",
    "old_converted = df[df['group'] == 'control']['converted'].value_counts()['yes']\n",
    "\n",
    "no_treatment = df.group.value_counts()['treatment']\n",
    "no_control = df.group.value_counts()['control'] \n",
    "\n",
    "print(f'The numbers of users served the new and old pages are {no_control} and {no_treatment} respectively')"
   ]
  },
  {
   "cell_type": "markdown",
   "id": "dd81650a",
   "metadata": {},
   "source": [
    "## Z-test Assumptions"
   ]
  },
  {
   "cell_type": "markdown",
   "id": "02a6955d",
   "metadata": {},
   "source": [
    "### Binomally distributed population: A user might be converted or not converted.\n",
    "### Random data collection from the population: Yes, the collected sample is a random sample."
   ]
  },
  {
   "cell_type": "markdown",
   "id": "189afe25",
   "metadata": {},
   "source": [
    "## Calculating the P_value and Comparing with significant value"
   ]
  },
  {
   "cell_type": "code",
   "execution_count": 225,
   "id": "c7a01fc1",
   "metadata": {},
   "outputs": [
    {
     "name": "stdout",
     "output_type": "stream",
     "text": [
      "The p_value is 0.0080263\n"
     ]
    }
   ],
   "source": [
    "from statsmodels.stats.proportion import proportions_ztest   \n",
    "\n",
    "test_stats, p_value = proportions_ztest([new_converted, old_converted] , [no_treatment, no_control], alternative ='larger') \n",
    "p_value = round(p_value,7)\n",
    "print('The p_value is', p_value)"
   ]
  },
  {
   "cell_type": "code",
   "execution_count": 226,
   "id": "3ca9e196",
   "metadata": {},
   "outputs": [
    {
     "name": "stdout",
     "output_type": "stream",
     "text": [
      "Reject the null hypothesis, since p_value 0.0080263 is less than the significance value.\n"
     ]
    }
   ],
   "source": [
    "#comparing with singnificance value = 0.05\n",
    "sv = 0.05\n",
    "if p_value <= sv:\n",
    "    print(f'Reject the null hypothesis, since p_value {p_value} is less than the significance value.')\n",
    "else:\n",
    "    print(f'Do not reject the null hypothesis, since p_value {p_value} is less than the significance value.')"
   ]
  },
  {
   "cell_type": "markdown",
   "id": "13f2e55d",
   "metadata": {},
   "source": [
    "##  Inference based on the p-value"
   ]
  },
  {
   "cell_type": "markdown",
   "id": "9f6a4da5",
   "metadata": {},
   "source": [
    "### Rejecting the null hypothesis, since p_value 0.0080263 is less than the significance value. By, this we can say that conversion rate of the new page is greater than the conversion rate of the old page."
   ]
  },
  {
   "cell_type": "markdown",
   "id": "021eacb8",
   "metadata": {},
   "source": []
  },
  {
   "cell_type": "markdown",
   "id": "8aee6ccb",
   "metadata": {},
   "source": [
    "## 3) Does the converted status depend on the preferred language?"
   ]
  },
  {
   "cell_type": "code",
   "execution_count": 229,
   "id": "c686ca93",
   "metadata": {},
   "outputs": [
    {
     "data": {
      "image/png": "[encoded data removed]",
      "text/plain": [
       "<Figure size 432x288 with 1 Axes>"
      ]
     },
     "metadata": {
      "needs_background": "light"
     },
     "output_type": "display_data"
    }
   ],
   "source": [
    "# perform visual analysis\n",
    "pd.crosstab(df.language_preferred,df.converted,normalize='index').plot(kind=\"bar\", stacked=True)\n",
    "plt.show()"
   ]
  },
  {
   "cell_type": "markdown",
   "id": "84a657f9",
   "metadata": {},
   "source": [
    "## In the above analysis we can see that graph looks more similar with all three languages."
   ]
  },
  {
   "cell_type": "code",
   "execution_count": 231,
   "id": "f1b8f309",
   "metadata": {},
   "outputs": [
    {
     "data": {
      "text/html": [
       "<div>\n",
       "<style scoped>\n",
       "    .dataframe tbody tr th:only-of-type {\n",
       "        vertical-align: middle;\n",
       "    }\n",
       "\n",
       "    .dataframe tbody tr th {\n",
       "        vertical-align: top;\n",
       "    }\n",
       "\n",
       "    .dataframe thead th {\n",
       "        text-align: right;\n",
       "    }\n",
       "</style>\n",
       "<table border=\"1\" class=\"dataframe\">\n",
       "  <thead>\n",
       "    <tr style=\"text-align: right;\">\n",
       "      <th>converted</th>\n",
       "      <th>no</th>\n",
       "      <th>yes</th>\n",
       "    </tr>\n",
       "    <tr>\n",
       "      <th>language_preferred</th>\n",
       "      <th></th>\n",
       "      <th></th>\n",
       "    </tr>\n",
       "  </thead>\n",
       "  <tbody>\n",
       "    <tr>\n",
       "      <th>English</th>\n",
       "      <td>11</td>\n",
       "      <td>21</td>\n",
       "    </tr>\n",
       "    <tr>\n",
       "      <th>French</th>\n",
       "      <td>19</td>\n",
       "      <td>15</td>\n",
       "    </tr>\n",
       "    <tr>\n",
       "      <th>Spanish</th>\n",
       "      <td>16</td>\n",
       "      <td>18</td>\n",
       "    </tr>\n",
       "  </tbody>\n",
       "</table>\n",
       "</div>"
      ],
      "text/plain": [
       "converted           no  yes\n",
       "language_preferred         \n",
       "English             11   21\n",
       "French              19   15\n",
       "Spanish             16   18"
      ]
     },
     "execution_count": 231,
     "metadata": {},
     "output_type": "execute_result"
    }
   ],
   "source": [
    "con_table = pd.crosstab(df['language_preferred'], df['converted'])  \n",
    "con_table"
   ]
  },
  {
   "cell_type": "markdown",
   "id": "8a747c6c",
   "metadata": {},
   "source": [
    "## Independent - Chi-Squared test\n",
    " \n",
    "### Categorical variables: Yes\n",
    "### Random sampling from the population: collected data is a random sample"
   ]
  },
  {
   "cell_type": "code",
   "execution_count": 235,
   "id": "eb28f7df",
   "metadata": {},
   "outputs": [
    {
     "name": "stdout",
     "output_type": "stream",
     "text": [
      "The p-value is 0.2129889\n"
     ]
    }
   ],
   "source": [
    "from scipy.stats import chi2_contingency  \n",
    "chi, p_value, d, exp_freq = chi2_contingency(con_table) \n",
    "p_value = round(p_value,7)\n",
    "print('The p-value is', p_value)"
   ]
  },
  {
   "cell_type": "code",
   "execution_count": 252,
   "id": "5c57175f",
   "metadata": {},
   "outputs": [
    {
     "name": "stdout",
     "output_type": "stream",
     "text": [
      "Do not reject the null hypothesis, since p_value 0.4320414 is greater than the significance value.\n"
     ]
    }
   ],
   "source": [
    "#comparing with singnificance value = 0.05\n",
    "sv = 0.05\n",
    "if p_value <= sv:\n",
    "    print(f'Reject the null hypothesis, since p_value {p_value} is less than the significance value.')\n",
    "else:\n",
    "    print(f'Do not reject the null hypothesis, since p_value {p_value} is greater than the significance value.')"
   ]
  },
  {
   "cell_type": "markdown",
   "id": "5d9d7216",
   "metadata": {},
   "source": [
    "## Inference based on the p-value\n",
    "\n",
    "### Since p_value 0.2129889 is greater than the significance value, do not reject the null hypothesis. By this we can sya that converted status is independent of the preferred language."
   ]
  },
  {
   "cell_type": "markdown",
   "id": "1e0ccfc8",
   "metadata": {},
   "source": [
    "## "
   ]
  },
  {
   "cell_type": "markdown",
   "id": "c928b498",
   "metadata": {},
   "source": [
    "## 4)Is the time spent on the new page the same for the different language users?"
   ]
  },
  {
   "cell_type": "code",
   "execution_count": 242,
   "id": "c10b7980",
   "metadata": {},
   "outputs": [],
   "source": [
    "#creating a dataset for only new users\n",
    "new_users_df = df[df['landing_page'] == 'new']"
   ]
  },
  {
   "cell_type": "code",
   "execution_count": 243,
   "id": "e03b3ffc",
   "metadata": {},
   "outputs": [
    {
     "data": {
      "image/png": "[encoded data removed]",
      "text/plain": [
       "<Figure size 432x288 with 1 Axes>"
      ]
     },
     "metadata": {
      "needs_background": "light"
     },
     "output_type": "display_data"
    }
   ],
   "source": [
    "#perform visual analysis\n",
    "sb.boxplot(x='language_preferred', y='time_spent_on_the_page',data=new_users_df)\n",
    "plt.show()"
   ]
  },
  {
   "cell_type": "markdown",
   "id": "20ee8512",
   "metadata": {},
   "source": [
    "## this shows that there is a similar difference in time spent with the preferred languages "
   ]
  },
  {
   "cell_type": "code",
   "execution_count": 244,
   "id": "d7dbba00",
   "metadata": {},
   "outputs": [
    {
     "data": {
      "text/plain": [
       "language_preferred\n",
       "English    6.663750\n",
       "French     6.196471\n",
       "Spanish    5.835294\n",
       "Name: time_spent_on_the_page, dtype: float64"
      ]
     },
     "execution_count": 244,
     "metadata": {},
     "output_type": "execute_result"
    }
   ],
   "source": [
    "# taking the mean values for different languages\n",
    "new_users_df.groupby(['language_preferred'])['time_spent_on_the_page'].mean()"
   ]
  },
  {
   "cell_type": "code",
   "execution_count": 247,
   "id": "24505fac",
   "metadata": {},
   "outputs": [],
   "source": [
    "e_time_spent = new_users_df[new_users_df['language_preferred']==\"English\"]['time_spent_on_the_page']\n",
    "f_time_spent = new_users_df[new_users_df['language_preferred']=='French']['time_spent_on_the_page']   \n",
    "s_time_spent = new_users_df[new_users_df['language_preferred']=='Spanish']['time_spent_on_the_page']  "
   ]
  },
  {
   "cell_type": "markdown",
   "id": "f3d67360",
   "metadata": {},
   "source": [
    "## One-way Anova test outcomes\n",
    "\n",
    "### Random samples: The collected sample is a random sample"
   ]
  },
  {
   "cell_type": "markdown",
   "id": "da82cd8d",
   "metadata": {},
   "source": [
    "## Calculating the p_value and comparing with the significant value"
   ]
  },
  {
   "cell_type": "code",
   "execution_count": 250,
   "id": "aea4af70",
   "metadata": {},
   "outputs": [
    {
     "name": "stdout",
     "output_type": "stream",
     "text": [
      "The p-value is:  0.4320414\n"
     ]
    }
   ],
   "source": [
    "from scipy.stats import f_oneway \n",
    "test_stats, p_value = f_oneway(e_time_spent, f_time_spent, s_time_spent)  \n",
    "p_value = round(p_value,7)\n",
    "print('The p-value is: ', p_value)"
   ]
  },
  {
   "cell_type": "code",
   "execution_count": 253,
   "id": "ad5ff0ae",
   "metadata": {},
   "outputs": [
    {
     "name": "stdout",
     "output_type": "stream",
     "text": [
      "Do not reject the null hypothesis, since p_value 0.4320414 is greater than the significance value.\n"
     ]
    }
   ],
   "source": [
    "#comparing with singnificance value = 0.05\n",
    "sv = 0.05\n",
    "if p_value <= sv:\n",
    "    print(f'Reject the null hypothesis, since p_value {p_value} is less than the significance value.')\n",
    "else:\n",
    "    print(f'Do not reject the null hypothesis, since p_value {p_value} is greater than the significance value.')"
   ]
  },
  {
   "cell_type": "markdown",
   "id": "56a0ad9c",
   "metadata": {},
   "source": [
    "## Inference based on the p-value\n",
    "\n",
    "### Since p_value 0.4320414 is greater than the significance value, do not reject the null hypothesis. It implies that regardless of the preferred language, the average amount of time spent on the new landing page is comparatively similar."
   ]
  },
  {
   "cell_type": "markdown",
   "id": "66a48a8a",
   "metadata": {},
   "source": [
    "## "
   ]
  },
  {
   "cell_type": "markdown",
   "id": "fb27b059",
   "metadata": {},
   "source": [
    "# Conclusions and Outcomes"
   ]
  },
  {
   "cell_type": "markdown",
   "id": "6e6cb73c",
   "metadata": {},
   "source": [
    "## 1)Do the users spend more time on the new landing page than on the existing landing page?\n",
    "\n",
    "## Two sample T-tests were performed and result p_value (0.0001392) is less than the significance value(0.05). Therefore, null hypothes is rejected. So, by this we can say that average time spent by the users on the new page is greater compared to the old page."
   ]
  },
  {
   "cell_type": "markdown",
   "id": "7f2c6e30",
   "metadata": {},
   "source": [
    "## 2)Is the conversion rate (the proportion of users who visit the landing page and get converted) for the new page greater than the conversion rate for the old page?\n",
    "\n",
    "## Z-test was performed and result p_value (0.0080263) is less than the significance value(0.05). Null hypothesis got rejected. So, by this we can say that conversion rate of the new landing page is greater than the conversion rate of the old landing page"
   ]
  },
  {
   "cell_type": "markdown",
   "id": "2fb10864",
   "metadata": {},
   "source": [
    "## 3)Does the converted status depend on the preferred language?\n",
    "\n",
    "## Chi-squared test for independence was performed and result p_value (0.2129889) is greater than the significance value(0.05), failed to reject the null hypothesis. By this we can say that converted status and the preferred language of the time spent on the page is independent.\n"
   ]
  },
  {
   "cell_type": "markdown",
   "id": "85edd0f0",
   "metadata": {},
   "source": [
    "## 4) Is the time spent on the new page the same for the different language users?\n",
    "\n",
    "##  One-way ANOVA test was performed and result  p_value (0.4320414) is greater than the significance value(0.05), failed to reject the null hypothesis. The average amount of time spent on the new landing page is comparatively similar across all the preferred languages."
   ]
  },
  {
   "cell_type": "markdown",
   "id": "1f7491e6",
   "metadata": {},
   "source": [
    "## "
   ]
  },
  {
   "cell_type": "markdown",
   "id": "dd6a7356",
   "metadata": {},
   "source": [
    "## Business Recommendation\n",
    "\n",
    "## We have observed that New landing page users are more likely to have more time spent. So, by applying new landing page might increase the users.\n",
    "## Making page available in different languages might help in increasing the users.\n",
    "## Making the new page available for the preferred languages might help in increasing the users."
   ]
  },
  {
   "cell_type": "code",
   "execution_count": null,
   "id": "f6319b27",
   "metadata": {},
   "outputs": [],
   "source": []
  }
 ],
 "metadata": {
  "kernelspec": {
   "display_name": "Python 3 (ipykernel)",
   "language": "python",
   "name": "python3"
  },
  "language_info": {
   "codemirror_mode": {
    "name": "ipython",
    "version": 3
   },
   "file_extension": ".py",
   "mimetype": "text/x-python",
   "name": "python",
   "nbconvert_exporter": "python",
   "pygments_lexer": "ipython3",
   "version": "3.9.7"
  }
 },
 "nbformat": 4,
 "nbformat_minor": 5
}
